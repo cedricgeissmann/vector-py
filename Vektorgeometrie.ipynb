{
 "cells": [
  {
   "cell_type": "markdown",
   "id": "dc7ff0dc",
   "metadata": {},
   "source": [
    "# Vektorgeometrie mit dem Computer\n",
    "\n",
    "Viele Dinge in der Vektorgeometrie sind sehr repetitiv, dafür lohnt es sich einen Computer zu verwenden.\n",
    "\n",
    "Für den Computer macht es keinen Unterschied ob Sie über einen Punkt oder einen Vektor sprechen. Der Computer geht davon aus das Sie über Ortsvektoren sprechen wenn Sie einen Punkt meinen. Das macht es uns einfacher, denn ein Punkt und ein Vektor sind dann einfach eine Ansammlung von 3 Einträgen die zusammen gehören.\n",
    "\n",
    "## Mit Vektoren arbeiten\n",
    "\n",
    "Um mit Vektoren zu arbeiten verwenden wir Matrizen. Dies sind komplexere Formen von Vektoren, folgen aber den gleichen Rechengesetzen, damit ist es für uns einfach damit zu arbeiten. In der nächsten Zelle wird den Vektor $\\vec{v} = \\begin{pmatrix}1\\\\ 2\\\\ 3\\end{pmatrix}$ definiert."
   ]
  },
  {
   "cell_type": "code",
   "execution_count": null,
   "id": "82a6fb93",
   "metadata": {},
   "outputs": [],
   "source": [
    "from sympy import *\n",
    "\n",
    "v = Matrix([1, 2, 3])\n",
    "\n",
    "v"
   ]
  },
  {
   "cell_type": "markdown",
   "id": "3a19c639",
   "metadata": {},
   "source": [
    "## Mit Vektoren rechnen\n",
    "\n",
    "Wir können Addition und Subtraktion mit Vektoren ganz einfach durchführen. Als Beispiel schauen wir uns an wie man einen Vektor $\\vec{v}$ aus zwei Punkten berechnet."
   ]
  },
  {
   "cell_type": "code",
   "execution_count": null,
   "id": "02a29440",
   "metadata": {},
   "outputs": [],
   "source": [
    "# Punkte A und B als Ortsvektoren definieren\n",
    "\n",
    "A = Matrix([1, 2, 3])\n",
    "B = Matrix([3, 4, 1])\n",
    "\n",
    "# Vektor v als Differenz von B und A berechnen (also B - A)\n",
    "\n",
    "v = B - A\n",
    "\n",
    "display(v)"
   ]
  },
  {
   "cell_type": "markdown",
   "id": "afe88ec9",
   "metadata": {},
   "source": [
    "## Vektoren strecken\n",
    "\n",
    "Wenn Sie einen Vektor strecken möchten, dann können Sie diesen einfach mit einem Skalar (Zahl) multiplizieren."
   ]
  },
  {
   "cell_type": "code",
   "execution_count": null,
   "id": "f7f0a712",
   "metadata": {},
   "outputs": [],
   "source": [
    "v2 = 2 * v\n",
    "display(v2)"
   ]
  },
  {
   "cell_type": "markdown",
   "id": "f335ef68",
   "metadata": {},
   "source": [
    "## Parameterdarstellung von Geraden\n",
    "\n",
    "Sie können auch die Parameterdarstellung verwenden. Dafür müssen Sie aber zuerst eine Variable deklarieren. Wir werden hier die Variable $t$ verwenden."
   ]
  },
  {
   "cell_type": "code",
   "execution_count": null,
   "id": "0d7ff5e5",
   "metadata": {},
   "outputs": [],
   "source": [
    "# Variable deklarieren\n",
    "t = symbols(\"t\")\n",
    "\n",
    "# Gerade g als A + t*v deklarieren\n",
    "g = A + t * v\n",
    "display(g)"
   ]
  },
  {
   "cell_type": "markdown",
   "id": "46ba544b",
   "metadata": {},
   "source": [
    "Die Ausgabe sieht ein wenig anders aus wie Sie sich das gewohnt sind, es ist aber genau das gleiche. Das was Sie jetzt erhalten haben, ist ein Ortsvektor der zu allen Punkten zeigt die auf der Geraden $g$ liegen. Hier wurde einfach alles schon zusammengefasst.\n",
    "\n",
    "## Einen Punkt auf der Geraden bestimmen\n",
    "\n",
    "Wenn Sie nun einen bestimmten Punkt haben möchten der auf der Geraden liegt, dann können Sie für $t$ einfach einen Wert wählen."
   ]
  },
  {
   "cell_type": "code",
   "execution_count": null,
   "id": "949bc783",
   "metadata": {},
   "outputs": [],
   "source": [
    "# einen Wert für t wählen\n",
    "P = g.subs(t, 2)\n",
    "\n",
    "display(P)"
   ]
  },
  {
   "cell_type": "markdown",
   "id": "2f8b622c",
   "metadata": {},
   "source": [
    "Der Code hier wirkt ein wenig unintuitiv, macht aber aus mathematischer Sicht Sinn. In diesem Beispiel ist $g$ eine *Expression*, also ein mathematischer Term. In diesem Term können wir Symbole einfach ersetzen, und erhalten einen neuen Term daraus. Das `subs` steht für *substitute* also für *ersetzen*.\n",
    "\n",
    "## Gleichunssysteme lösen\n",
    "\n",
    "Sie haben es schon oft gehört, wenn Sie das richtige Gleichungssystem aufgestellt haben, ist die Aufgabe eigentlich gelöst, denn Sie können Gleichungssysteme sehr einfach mit dem Computer lösen lassen.\n",
    "\n",
    "Ein einfaches Gleichungssystem brauchen Sie wenn Sie 2 Vektoren auf lineare Abhängigkeit überprüfen möchten. Ein wenig umgeformt müssen Sie also die Frage beantworten ob es eine Zahl $a$ gibt, die den Vektor $\\vec{v}$ in den Vektor $\\vec{w}$ umwandelt.\n",
    "\n",
    "$$\n",
    "a \\cdot \\vec{v} = \\vec{w}\n",
    "$$"
   ]
  },
  {
   "cell_type": "code",
   "execution_count": null,
   "id": "7e31eeeb",
   "metadata": {},
   "outputs": [],
   "source": [
    "# Variable a deklarieren\n",
    "a = symbols(\"a\")\n",
    "\n",
    "# Die Vektoren v und w deklarieren\n",
    "v = Matrix([1, 2, 3])\n",
    "w = Matrix([3, 6, 9])\n",
    "\n",
    "# Das Gleichungssystem erstellen.\n",
    "system = [\n",
    "    Eq(a * v, w)\n",
    "]\n",
    "\n",
    "# Gleichungssystem nach a auflösen\n",
    "sol = solve(system, a)\n",
    "display(sol)"
   ]
  },
  {
   "cell_type": "markdown",
   "id": "ee779d77",
   "metadata": {},
   "source": [
    "Wenn das Gleichungssystem eine Lösung hat, dan wird diese hier angezeigt. Gibt es keine Lösung, dann erschient die Leeremenge.\n",
    "\n",
    "### Gleichungen\n",
    "\n",
    "Eine Gleichung geben Sie mit `Eq(lhs, rhs)` an. Das ist so zu lesen das `lhs` (left-hand-side) das ist was links von dem Gleichheitszeichen steht, und `rhs` das was rechts davon steht.\n",
    "\n",
    "Wenn Sie ein Gleichungssystem angeben möchten, dann ist dies einfach eine Liste von Gleichungen.\n",
    "\n",
    "## Schnittpunkte von Geraden bestimmen\n",
    "\n",
    "Das bestimmen von Schnittpunkten von 2 Geraden ist ganz einfach, Sie müssen nur ein Gleichungssystem lösen lassen. Dieses können Sie mit der Parameterdarstellung ganz einfach aufschreiben."
   ]
  },
  {
   "cell_type": "code",
   "execution_count": null,
   "id": "eda1349c",
   "metadata": {},
   "outputs": [],
   "source": [
    "from sympy import *\n",
    "\n",
    "s, t = symbols(\"s t\")\n",
    "\n",
    "A = Matrix([-1, 0, 2])\n",
    "v = Matrix([1, -2, 5])\n",
    "g = A + t*v\n",
    "\n",
    "B = Matrix([7, 2, 4])\n",
    "w = Matrix([4, 1, 1])\n",
    "h = B + s*w\n",
    "\n",
    "system = [\n",
    "    Eq(g, h)\n",
    "]\n",
    "\n",
    "sol = solve(system, [s, t])\n",
    "display(sol)"
   ]
  },
  {
   "cell_type": "markdown",
   "id": "766ea6c3",
   "metadata": {},
   "source": [
    "Das Gleichungssystem hat eine Lösung, das bedeutet es gibt einen Schnittpunkt. Diesen können wir nun noch berechnen indem wir $s$ oder $t$ in die Gleichungen einsetzen. In diesem Fall können wir es auch direkt ablesen (weil $t= 0$ ist), wir möchten es aber dennoch in eine der Gleichungen einsetzen."
   ]
  },
  {
   "cell_type": "code",
   "execution_count": null,
   "id": "d0305ca5",
   "metadata": {},
   "outputs": [],
   "source": [
    "# Schnittpunkt S berechnen, indem wir s = -2 in der Geradengleichung von h einsetzen\n",
    "S = h.subs(s, -2)\n",
    "\n",
    "# Schnittpunkt anzeigen\n",
    "display(S)"
   ]
  }
 ],
 "metadata": {
  "kernelspec": {
   "display_name": "Python 3 (ipykernel)",
   "language": "python",
   "name": "python3"
  },
  "language_info": {
   "codemirror_mode": {
    "name": "ipython",
    "version": 3
   },
   "file_extension": ".py",
   "mimetype": "text/x-python",
   "name": "python",
   "nbconvert_exporter": "python",
   "pygments_lexer": "ipython3",
   "version": "3.10.4"
  }
 },
 "nbformat": 4,
 "nbformat_minor": 5
}
